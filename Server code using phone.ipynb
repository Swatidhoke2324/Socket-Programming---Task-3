{
 "cells": [
  {
   "cell_type": "code",
   "execution_count": 1,
   "metadata": {},
   "outputs": [
    {
     "name": "stdout",
     "output_type": "stream",
     "text": [
      "Listening at :  ('', 2222)\n"
     ]
    }
   ],
   "source": [
    "import socket, cv2, pickle, struct, imutils, threading\n",
    "\n",
    "# Socket Create\n",
    "server_socket = socket.socket(socket.AF_INET, socket.SOCK_STREAM)\n",
    "\n",
    "host_name = socket.gethostname()\n",
    "host_ip = \"\"\n",
    "\n",
    "port = 2222\n",
    "socket_address = (host_ip, port)\n",
    "\n",
    "# Socket Bind\n",
    "server_socket.bind(socket_address)\n",
    "\n",
    "# Socket Listen\n",
    "server_socket.listen(5)\n",
    "print(\"Listening at : \", socket_address)\n",
    "\n"
   ]
  },
  {
   "cell_type": "code",
   "execution_count": 2,
   "metadata": {},
   "outputs": [],
   "source": [
    "# Streaming Video to client\n",
    "\n",
    "def send(client_socket, addr):\n",
    "    print(\"Got connection from : \", addr)\n",
    "    if client_socket:\n",
    "        vid = cv2.VideoCapture(0)\n",
    "        \n",
    "        while (vid.isOpened()):\n",
    "            try:\n",
    "                img, frame = vid.read()\n",
    "                frame = imutils.resize(frame, width = 620)\n",
    "                a = pickle.dumps(frame)\n",
    "                message = struct.pack(\"Q\", len(a))+a\n",
    "                client_socket.sendall(message)\n",
    "            except ConnectionAbortedError:\n",
    "                vid.release()\n",
    "                client_socket.close()\n",
    "                break"
   ]
  },
  {
   "cell_type": "code",
   "execution_count": 3,
   "metadata": {},
   "outputs": [],
   "source": [
    "# Receiving Video from Client\n",
    "\n",
    "def recv():\n",
    "    data = b\"\"\n",
    "    payload_size = struct.calcsize(\"Q\")\n",
    "    while True:\n",
    "        while len(data) < payload_size:\n",
    "            packet = client_socket.recv(4*1024) ##### 4K\n",
    "            if not packet: \n",
    "                break\n",
    "            data += packet\n",
    "        packed_msg_size = data[:payload_size]\n",
    "        data = data[payload_size:]\n",
    "        msg_size = struct.unpack(\"Q\", packed_msg_size)[0]\n",
    "            \n",
    "        while len(data) < msg_size:\n",
    "            data += client_socket.recv(4*1024)\n",
    "        frame_data = data[:msg_size]\n",
    "        data = data[msg_size:]\n",
    "        frame = pickle.loads(frame_data)\n",
    "        cv2.imshow(\"Client to server video\", frame)\n",
    "        if cv2.waitKey(1) == ord(\"q\"):\n",
    "            break\n",
    "    cv2.destroyAllWindows()\n",
    "    client_socket.close()"
   ]
  },
  {
   "cell_type": "code",
   "execution_count": null,
   "metadata": {},
   "outputs": [
    {
     "name": "stdout",
     "output_type": "stream",
     "text": [
      "Got connection from :  ('192.168.43.153', 60342)\n"
     ]
    },
    {
     "name": "stderr",
     "output_type": "stream",
     "text": [
      "Exception in thread Thread-7:\n",
      "Traceback (most recent call last):\n",
      "  File \"C:\\Users\\swati\\anaconda3\\lib\\threading.py\", line 932, in _bootstrap_inner\n",
      "    self.run()\n",
      "  File \"C:\\Users\\swati\\anaconda3\\lib\\threading.py\", line 870, in run\n",
      "    self._target(*self._args, **self._kwargs)\n",
      "  File \"<ipython-input-2-8051dc2d53e2>\", line 14, in send\n",
      "OSError: [WinError 10038] An operation was attempted on something that is not a socket\n"
     ]
    },
    {
     "name": "stdout",
     "output_type": "stream",
     "text": [
      "Got connection from :  ('192.168.56.1', 54915)\n"
     ]
    },
    {
     "name": "stderr",
     "output_type": "stream",
     "text": [
      "Exception in thread Thread-9:\n",
      "Traceback (most recent call last):\n",
      "  File \"C:\\Users\\swati\\anaconda3\\lib\\threading.py\", line 932, in _bootstrap_inner\n",
      "Exception in thread Thread-8:\n",
      "Traceback (most recent call last):\n",
      "  File \"C:\\Users\\swati\\anaconda3\\lib\\threading.py\", line 932, in _bootstrap_inner\n",
      "    self.run()\n",
      "  File \"C:\\Users\\swati\\anaconda3\\lib\\threading.py\", line 870, in run\n",
      "    self.run()\n",
      "  File \"C:\\Users\\swati\\anaconda3\\lib\\threading.py\", line 870, in run\n",
      "    self._target(*self._args, **self._kwargs)\n",
      "  File \"<ipython-input-2-8051dc2d53e2>\", line 14, in send\n",
      "    self._target(*self._args, **self._kwargs)\n",
      "  File \"<ipython-input-3-5bd8de1f561b>\", line 8, in recv\n",
      "ConnectionResetError: [WinError 10054] An existing connection was forcibly closed by the remote host\n",
      "ConnectionResetError: [WinError 10054] An existing connection was forcibly closed by the remote host\n"
     ]
    },
    {
     "name": "stdout",
     "output_type": "stream",
     "text": [
      "Got connection from :  ('192.168.56.1', 63677)\n"
     ]
    },
    {
     "name": "stderr",
     "output_type": "stream",
     "text": [
      "Exception in thread Thread-11:\n",
      "Traceback (most recent call last):\n",
      "  File \"C:\\Users\\swati\\anaconda3\\lib\\threading.py\", line 932, in _bootstrap_inner\n",
      "    self.run()\n",
      "  File \"C:\\Users\\swati\\anaconda3\\lib\\threading.py\", line 870, in run\n",
      "    self._target(*self._args, **self._kwargs)\n",
      "  File \"<ipython-input-2-8051dc2d53e2>\", line 11, in send\n",
      "  File \"C:\\Users\\swati\\anaconda3\\lib\\site-packages\\imutils\\convenience.py\", line 69, in resize\n",
      "    (h, w) = image.shape[:2]\n",
      "AttributeError: 'NoneType' object has no attribute 'shape'\n",
      "Exception in thread Thread-10:\n",
      "Traceback (most recent call last):\n",
      "  File \"C:\\Users\\swati\\anaconda3\\lib\\threading.py\", line 932, in _bootstrap_inner\n",
      "    self.run()\n",
      "  File \"C:\\Users\\swati\\anaconda3\\lib\\threading.py\", line 870, in run\n",
      "    self._target(*self._args, **self._kwargs)\n",
      "  File \"<ipython-input-3-5bd8de1f561b>\", line 17, in recv\n",
      "ConnectionResetError: [WinError 10054] An existing connection was forcibly closed by the remote host\n"
     ]
    },
    {
     "name": "stdout",
     "output_type": "stream",
     "text": [
      "Got connection from :  ('192.168.56.1', 58080)\n"
     ]
    },
    {
     "name": "stderr",
     "output_type": "stream",
     "text": [
      "Exception in thread Thread-13:\n",
      "Traceback (most recent call last):\n",
      "  File \"C:\\Users\\swati\\anaconda3\\lib\\threading.py\", line 932, in _bootstrap_inner\n",
      "Exception in thread Thread-12:\n",
      "Traceback (most recent call last):\n",
      "  File \"C:\\Users\\swati\\anaconda3\\lib\\threading.py\", line 932, in _bootstrap_inner\n",
      "    self.run()\n",
      "  File \"C:\\Users\\swati\\anaconda3\\lib\\threading.py\", line 870, in run\n",
      "    self.run()\n",
      "  File \"C:\\Users\\swati\\anaconda3\\lib\\threading.py\", line 870, in run\n",
      "    self._target(*self._args, **self._kwargs)\n",
      "  File \"<ipython-input-2-8051dc2d53e2>\", line 14, in send\n",
      "    self._target(*self._args, **self._kwargs)\n",
      "  File \"<ipython-input-3-5bd8de1f561b>\", line 8, in recv\n",
      "ConnectionResetError: ConnectionResetError[WinError 10054] An existing connection was forcibly closed by the remote host\n",
      ": [WinError 10054] An existing connection was forcibly closed by the remote host\n"
     ]
    },
    {
     "name": "stdout",
     "output_type": "stream",
     "text": [
      "Got connection from :  ('192.168.56.1', 58081)\n"
     ]
    },
    {
     "name": "stderr",
     "output_type": "stream",
     "text": [
      "Exception in thread Thread-15:\n",
      "Traceback (most recent call last):\n",
      "  File \"C:\\Users\\swati\\anaconda3\\lib\\threading.py\", line 932, in _bootstrap_inner\n",
      "    self.run()\n",
      "  File \"C:\\Users\\swati\\anaconda3\\lib\\threading.py\", line 870, in run\n",
      "    self._target(*self._args, **self._kwargs)\n",
      "  File \"<ipython-input-2-8051dc2d53e2>\", line 11, in send\n",
      "  File \"C:\\Users\\swati\\anaconda3\\lib\\site-packages\\imutils\\convenience.py\", line 69, in resize\n",
      "    (h, w) = image.shape[:2]\n",
      "AttributeError: 'NoneType' object has no attribute 'shape'\n"
     ]
    },
    {
     "name": "stdout",
     "output_type": "stream",
     "text": [
      "Got connection from :  ('192.168.56.1', 49406)\n"
     ]
    },
    {
     "name": "stderr",
     "output_type": "stream",
     "text": [
      "Exception in thread Thread-17:\n",
      "Traceback (most recent call last):\n",
      "  File \"C:\\Users\\swati\\anaconda3\\lib\\threading.py\", line 932, in _bootstrap_inner\n",
      "    self.run()\n",
      "  File \"C:\\Users\\swati\\anaconda3\\lib\\threading.py\", line 870, in run\n",
      "    self._target(*self._args, **self._kwargs)\n",
      "  File \"<ipython-input-2-8051dc2d53e2>\", line 11, in send\n",
      "  File \"C:\\Users\\swati\\anaconda3\\lib\\site-packages\\imutils\\convenience.py\", line 69, in resize\n",
      "    (h, w) = image.shape[:2]\n",
      "AttributeError: 'NoneType' object has no attribute 'shape'\n"
     ]
    },
    {
     "name": "stdout",
     "output_type": "stream",
     "text": [
      "Got connection from :  ('192.168.56.1', 49408)\n"
     ]
    }
   ],
   "source": [
    "while True:\n",
    "    client_socket, addr = server_socket.accept()\n",
    "    \n",
    "    if client_socket:\n",
    "        t2 = threading.Thread(target = recv)\n",
    "        t2.start()\n",
    "        t1 = threading.Thread(target = send, args = (client_socket, addr))\n",
    "        t1.start()"
   ]
  },
  {
   "cell_type": "code",
   "execution_count": null,
   "metadata": {},
   "outputs": [],
   "source": []
  },
  {
   "cell_type": "code",
   "execution_count": null,
   "metadata": {},
   "outputs": [],
   "source": []
  },
  {
   "cell_type": "code",
   "execution_count": null,
   "metadata": {},
   "outputs": [],
   "source": []
  }
 ],
 "metadata": {
  "kernelspec": {
   "display_name": "Python 3",
   "language": "python",
   "name": "python3"
  },
  "language_info": {
   "codemirror_mode": {
    "name": "ipython",
    "version": 3
   },
   "file_extension": ".py",
   "mimetype": "text/x-python",
   "name": "python",
   "nbconvert_exporter": "python",
   "pygments_lexer": "ipython3",
   "version": "3.8.8"
  }
 },
 "nbformat": 4,
 "nbformat_minor": 4
}
