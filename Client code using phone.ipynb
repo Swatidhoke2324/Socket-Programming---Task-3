{
 "cells": [
  {
   "cell_type": "code",
   "execution_count": 3,
   "metadata": {},
   "outputs": [],
   "source": [
    "import socket, cv2, pickle, struct, threading, imutils\n",
    "\n",
    "# Create socket\n",
    "client_socket = socket.socket(socket.AF_INET, socket.SOCK_STREAM)\n",
    "host_ip = \"192.168.43.153\"\n",
    "port = 2222\n",
    "client_socket.connect((host_ip, port))"
   ]
  },
  {
   "cell_type": "code",
   "execution_count": 4,
   "metadata": {},
   "outputs": [],
   "source": [
    "# Receiving Video from Client\n",
    "\n",
    "def recv():\n",
    "    data = b\"\"\n",
    "    payload_size = struct.calcsize(\"Q\")\n",
    "    while True:\n",
    "        while len(data) < payload_size:\n",
    "            packet = client_socket.recv(4*1024) ##### 4K\n",
    "            if not packet: \n",
    "                break\n",
    "            data += packet\n",
    "        packed_msg_size = data[:payload_size]\n",
    "        data = data[payload_size:]\n",
    "        msg_size = struct.unpack(\"Q\", packed_msg_size)[0]\n",
    "            \n",
    "        while len(data) < msg_size:\n",
    "            data += client_socket.recv(4*1024)\n",
    "        frame_data = data[:msg_size]\n",
    "        data = data[msg_size:]\n",
    "        frame = pickle.loads(frame_data)\n",
    "        cv2.imshow(\"Client to server video 1\", frame)\n",
    "        if cv2.waitKey(1) == ord(\"q\"):\n",
    "            break\n",
    "    cv2.destroyAllWindows()\n",
    "    client_socket.close()"
   ]
  },
  {
   "cell_type": "code",
   "execution_count": 5,
   "metadata": {},
   "outputs": [],
   "source": [
    "def sendm():\n",
    "    if client_socket:\n",
    "        vid = cv2.VideoCapture('http://192.168.43.1:8080/video')\n",
    "        \n",
    "        while (vid.isOpened()):\n",
    "            try:\n",
    "                img, frame = vid.read()\n",
    "                frame = imutils.resize(frame, width = 620)\n",
    "                a = pickle.dumps(frame)\n",
    "                message = struct.pack(\"Q\", len(a))+a\n",
    "                client_socket.sendall(message)\n",
    "            except ConnectionAbortedError:\n",
    "                vid.release()\n",
    "                client_socket.close()\n",
    "                break"
   ]
  },
  {
   "cell_type": "code",
   "execution_count": 6,
   "metadata": {},
   "outputs": [
    {
     "name": "stderr",
     "output_type": "stream",
     "text": [
      "Exception in thread Thread-6:\n",
      "Traceback (most recent call last):\n",
      "  File \"C:\\Users\\swati\\anaconda3\\lib\\threading.py\", line 932, in _bootstrap_inner\n",
      "    self.run()\n",
      "  File \"C:\\Users\\swati\\anaconda3\\lib\\threading.py\", line 870, in run\n",
      "    self._target(*self._args, **self._kwargs)\n",
      "  File \"<ipython-input-4-292154840b42>\", line 8, in recv\n",
      "ConnectionResetError: [WinError 10054] An existing connection was forcibly closed by the remote host\n",
      "Exception in thread Thread-7:\n",
      "Traceback (most recent call last):\n",
      "  File \"C:\\Users\\swati\\anaconda3\\lib\\threading.py\", line 932, in _bootstrap_inner\n",
      "    self.run()\n",
      "  File \"C:\\Users\\swati\\anaconda3\\lib\\threading.py\", line 870, in run\n",
      "    self._target(*self._args, **self._kwargs)\n",
      "  File \"<ipython-input-5-866de3d9b853>\", line 11, in sendm\n",
      "ConnectionResetError: [WinError 10054] An existing connection was forcibly closed by the remote host\n"
     ]
    }
   ],
   "source": [
    "t1 = threading.Thread(target = recv)\n",
    "t1.start()\n",
    "t2 = threading.Thread(target = sendm)\n",
    "t2.start()"
   ]
  },
  {
   "cell_type": "code",
   "execution_count": null,
   "metadata": {},
   "outputs": [],
   "source": []
  },
  {
   "cell_type": "code",
   "execution_count": null,
   "metadata": {},
   "outputs": [],
   "source": []
  },
  {
   "cell_type": "code",
   "execution_count": null,
   "metadata": {},
   "outputs": [],
   "source": []
  },
  {
   "cell_type": "code",
   "execution_count": null,
   "metadata": {},
   "outputs": [],
   "source": []
  }
 ],
 "metadata": {
  "kernelspec": {
   "display_name": "Python 3",
   "language": "python",
   "name": "python3"
  },
  "language_info": {
   "codemirror_mode": {
    "name": "ipython",
    "version": 3
   },
   "file_extension": ".py",
   "mimetype": "text/x-python",
   "name": "python",
   "nbconvert_exporter": "python",
   "pygments_lexer": "ipython3",
   "version": "3.8.8"
  }
 },
 "nbformat": 4,
 "nbformat_minor": 4
}
